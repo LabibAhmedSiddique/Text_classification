{
  "nbformat": 4,
  "nbformat_minor": 0,
  "metadata": {
    "colab": {
      "provenance": []
    },
    "kernelspec": {
      "name": "python3",
      "display_name": "Python 3"
    },
    "language_info": {
      "name": "python"
    }
  },
  "cells": [
    {
      "cell_type": "code",
      "execution_count": 1,
      "metadata": {
        "id": "bwWR5Ho_qyPm"
      },
      "outputs": [],
      "source": [
        "import numpy as np\n",
        "import io\n",
        "import pandas as pd\n",
        "import matplotlib.pyplot as plt\n",
        "import tensorflow as tf\n",
        "from tensorflow import keras \n",
        "import tensorflow_datasets as tfds\n",
        "from tensorflow.keras import layers\n",
        "import pickle\n",
        "import tensorflow_hub as hub\n"
      ]
    },
    {
      "cell_type": "code",
      "source": [
        "from numpy.lib.shape_base import split\n",
        "def filter_train(line):\n",
        "  split_line = tf.strings.split(line , ',' , maxsplit=4)\n",
        "  dataset_belonging = split_line[1]\n",
        "  sentiiment_catagory = split_line[2]\n",
        "  return (\n",
        "      True \n",
        "      if dataset_belonging == 'train' and sentiiment_catagory != 'unsup'\n",
        "      else False )"
      ],
      "metadata": {
        "id": "S07NOFl3Qb3N"
      },
      "execution_count": 7,
      "outputs": []
    },
    {
      "cell_type": "code",
      "source": [
        "from numpy.lib.shape_base import split\n",
        "def filter_test(line):\n",
        "  split_line = tf.strings.split(line , ',' , maxsplit=4)\n",
        "  dataset_belonging = split_line[1]\n",
        "  sentiiment_catagory = split_line[2]\n",
        "  return (\n",
        "      True \n",
        "      if dataset_belonging == 'test' and sentiiment_catagory != 'unsup'\n",
        "      else False )"
      ],
      "metadata": {
        "id": "qCFTruWQTbxR"
      },
      "execution_count": 10,
      "outputs": []
    },
    {
      "cell_type": "code",
      "source": [
        "ds_train = tf.data.TextLineDataset(\"/content/drive/MyDrive/idbm/imdb.csv\").filter(filter_train)\n",
        "ds_test = tf.data.TextLineDataset(\"/content/drive/MyDrive/idbm/imdb.csv\").filter(filter_test)"
      ],
      "metadata": {
        "id": "-es_VYhRr679"
      },
      "execution_count": 11,
      "outputs": []
    },
    {
      "cell_type": "code",
      "source": [
        "for line in ds_train.skip(1).take(5):\n",
        "  print(tf.strings.split(line , ',' , maxsplit=4))"
      ],
      "metadata": {
        "colab": {
          "base_uri": "https://localhost:8080/"
        },
        "id": "PXFpIAY1xBpV",
        "outputId": "ee6fbddf-ccdb-42e0-800c-01760035e304"
      },
      "execution_count": 9,
      "outputs": [
        {
          "output_type": "stream",
          "name": "stdout",
          "text": [
            "tf.Tensor(\n",
            "[b'25001' b'train' b'neg' b'10000_4.txt'\n",
            " b'\"Airport \\'77 starts as a brand new luxury 747 plane is loaded up with valuable paintings & such belonging to rich businessman Philip Stevens (James Stewart) who is flying them & a bunch of VIP\\'s to his estate in preparation of it being opened to the public as a museum, also on board is Stevens daughter Julie (Kathleen Quinlan) & her son. The luxury jetliner takes off as planned but mid-air the plane is hi-jacked by the co-pilot Chambers (Robert Foxworth) & his two accomplice\\'s Banker (Monte Markham) & Wilson (Michael Pataki) who knock the passengers & crew out with sleeping gas, they plan to steal the valuable cargo & land on a disused plane strip on an isolated island but while making his descent Chambers almost hits an oil rig in the Ocean & loses control of the plane sending it crashing into the sea where it sinks to the bottom right bang in the middle of the Bermuda Triangle. With air in short supply, water leaking in & having flown over 200 miles off course the problems mount for the survivor\\'s as they await help with time fast running out...<br /><br />Also known under the slightly different tile Airport 1977 this second sequel to the smash-hit disaster thriller Airport (1970) was directed by Jerry Jameson & while once again like it\\'s predecessors I can\\'t say Airport \\'77 is any sort of forgotten classic it is entertaining although not necessarily for the right reasons. Out of the three Airport films I have seen so far I actually liked this one the best, just. It has my favourite plot of the three with a nice mid-air hi-jacking & then the crashing (didn\\'t he see the oil rig?) & sinking of the 747 (maybe the makers were trying to cross the original Airport with another popular disaster flick of the period The Poseidon Adventure (1972)) & submerged is where it stays until the end with a stark dilemma facing those trapped inside, either suffocate when the air runs out or drown as the 747 floods or if any of the doors are opened & it\\'s a decent idea that could have made for a great little disaster flick but bad unsympathetic character\\'s, dull dialogue, lethargic set-pieces & a real lack of danger or suspense or tension means this is a missed opportunity. While the rather sluggish plot keeps one entertained for 108 odd minutes not that much happens after the plane sinks & there\\'s not as much urgency as I thought there should have been. Even when the Navy become involved things don\\'t pick up that much with a few shots of huge ships & helicopters flying about but there\\'s just something lacking here. George Kennedy as the jinxed airline worker Joe Patroni is back but only gets a couple of scenes & barely even says anything preferring to just look worried in the background.<br /><br />The home video & theatrical version of Airport \\'77 run 108 minutes while the US TV versions add an extra hour of footage including a new opening credits sequence, many more scenes with George Kennedy as Patroni, flashbacks to flesh out character\\'s, longer rescue scenes & the discovery or another couple of dead bodies including the navigator. While I would like to see this extra footage I am not sure I could sit through a near three hour cut of Airport \\'77. As expected the film has dated badly with horrible fashions & interior design choices, I will say no more other than the toy plane model effects aren\\'t great either. Along with the other two Airport sequels this takes pride of place in the Razzie Award\\'s Hall of Shame although I can think of lots of worse films than this so I reckon that\\'s a little harsh. The action scenes are a little dull unfortunately, the pace is slow & not much excitement or tension is generated which is a shame as I reckon this could have been a pretty good film if made properly.<br /><br />The production values are alright if nothing spectacular. The acting isn\\'t great, two time Oscar winner Jack Lemmon has said since it was a mistake to star in this, one time Oscar winner James Stewart looks old & frail, also one time Oscar winner Lee Grant looks drunk while Sir Christopher Lee is given little to do & there are plenty of other familiar faces to look out for too.<br /><br />Airport \\'77 is the most disaster orientated of the three Airport films so far & I liked the ideas behind it even if they were a bit silly, the production & bland direction doesn\\'t help though & a film about a sunken plane just shouldn\\'t be this boring or lethargic. Followed by The Concorde ... Airport \\'79 (1979).\"'], shape=(5,), dtype=string)\n",
            "tf.Tensor(\n",
            "[b'25002' b'train' b'neg' b'10001_4.txt'\n",
            " b'\"This film lacked something I couldn\\'t put my finger on at first: charisma on the part of the leading actress. This inevitably translated to lack of chemistry when she shared the screen with her leading man. Even the romantic scenes came across as being merely the actors at play. It could very well have been the director who miscalculated what he needed from the actors. I just don\\'t know.<br /><br />But could it have been the screenplay? Just exactly who was the chef in love with? He seemed more enamored of his culinary skills and restaurant, and ultimately of himself and his youthful exploits, than of anybody or anything else. He never convinced me he was in love with the princess.<br /><br />I was disappointed in this movie. But, don\\'t forget it was nominated for an Oscar, so judge for yourself.\"'], shape=(5,), dtype=string)\n",
            "tf.Tensor(\n",
            "[b'25003' b'train' b'neg' b'10002_1.txt'\n",
            " b'\"Sorry everyone,,, I know this is supposed to be an \"\"art\"\" film,, but wow, they should have handed out guns at the screening so people could blow their brains out and not watch. Although the scene design and photographic direction was excellent, this story is too painful to watch. The absence of a sound track was brutal. The loooonnnnng shots were too long. How long can you watch two people just sitting there and talking? Especially when the dialogue is two people complaining. I really had a hard time just getting through this film. The performances were excellent, but how much of that dark, sombre, uninspired, stuff can you take? The only thing i liked was Maureen Stapleton and her red dress and dancing scene. Otherwise this was a ripoff of Bergman. And i\\'m no fan f his either. I think anyone who says they enjoyed 1 1/2 hours of this is,, well, lying.\"'], shape=(5,), dtype=string)\n",
            "tf.Tensor(\n",
            "[b'25004' b'train' b'neg' b'10003_1.txt'\n",
            " b'\"When I was little my parents took me along to the theater to see Interiors. It was one of many movies I watched with my parents, but this was the only one we walked out of. Since then I had never seen Interiors until just recently, and I could have lived out the rest of my life without it. What a pretentious, ponderous, and painfully boring piece of 70\\'s wine and cheese tripe. Woody Allen is one of my favorite directors but Interiors is by far the worst piece of crap of his career. In the unmistakable style of Ingmar Berman, Allen gives us a dark, angular, muted, insight in to the lives of a family wrought by the psychological damage caused by divorce, estrangement, career, love, non-love, halitosis, whatever. The film, intentionally, has no comic relief, no music, and is drenched in shadowy pathos. This film style can be best defined as expressionist in nature, using an improvisational method of dialogue to illicit a \"\"more pronounced depth of meaning and truth\"\". But Woody Allen is no Ingmar Bergman. The film is painfully slow and dull. But beyond that, I simply had no connection with or sympathy for any of the characters. Instead I felt only contempt for this parade of shuffling, whining, nicotine stained, martyrs in a perpetual quest for identity. Amid a backdrop of cosmopolitan affluence and baked Brie intelligentsia the story looms like a fart in the room. Everyone speaks in affected platitudes and elevated language between cigarettes. Everyone is \"\"lost\"\" and \"\"struggling\"\", desperate to find direction or understanding or whatever and it just goes on and on to the point where you just want to slap all of them. It\\'s never about resolution, it\\'s only about interminable introspective babble. It is nothing more than a psychological drama taken to an extreme beyond the audience\\'s ability to connect. Woody Allen chose to make characters so immersed in themselves we feel left out. And for that reason I found this movie painfully self indulgent and spiritually draining. I see what he was going for but his insistence on promoting his message through Prozac prose and distorted film techniques jettisons it past the point of relevance. I highly recommend this one if you\\'re feeling a little too happy and need something to remind you of death. Otherwise, let\\'s just pretend this film never happened.\"'], shape=(5,), dtype=string)\n",
            "tf.Tensor(\n",
            "[b'25005' b'train' b'neg' b'10004_3.txt'\n",
            " b'\"\"\"It appears that many critics find the idea of a Woody Allen drama unpalatable.\"\" And for good reason: they are unbearably wooden and pretentious imitations of Bergman. And let\\'s not kid ourselves: critics were mostly supportive of Allen\\'s Bergman pretensions, Allen\\'s whining accusations to the contrary notwithstanding. What I don\\'t get is this: why was Allen generally applauded for his originality in imitating Bergman, but the contemporaneous Brian DePalma was excoriated for \"\"ripping off\"\" Hitchcock in his suspense/horror films? In Robin Wood\\'s view, it\\'s a strange form of cultural snobbery. I would have to agree with that.\"'], shape=(5,), dtype=string)\n"
          ]
        }
      ]
    },
    {
      "cell_type": "code",
      "source": [
        "tokenizer = tfds.deprecated.text.Tokenizer()\n"
      ],
      "metadata": {
        "id": "tF8O-ODC0g8-"
      },
      "execution_count": 13,
      "outputs": []
    },
    {
      "cell_type": "code",
      "source": [
        "def build_vocab(ds_train , threshold = 200):\n",
        "  frequencies = {}\n",
        "  vocabloary = set()\n",
        "  vocabloary.update([\"sostoken\"])\n",
        "  vocabloary.update([\"eostoken\"])\n",
        "  for line in ds_train.skip(1):\n",
        "    split_line = tf.strings.split(line , ',' , maxsplit=4)\n",
        "    review = split_line[4]\n",
        "    tokenized_text= tokenizer.tokenize(review.numpy().lower())\n",
        "    for word in tokenized_text:\n",
        "      if word not in frequencies:\n",
        "        frequencies[word] =1\n",
        "      else :\n",
        "        frequencies[word] +=1\n",
        "\n",
        "      if frequencies[word] == threshold:\n",
        "        vocabloary.update(tokenized_text)\n",
        "\n",
        "  return vocabloary"
      ],
      "metadata": {
        "id": "OeHX-RybVvnA"
      },
      "execution_count": 16,
      "outputs": []
    },
    {
      "cell_type": "code",
      "source": [
        "vocabloary = build_vocab(ds_train)\n",
        "vocab_file = open('vocabloary.obj' , 'wb')\n",
        "pickle.dump(vocabloary , vocab_file)"
      ],
      "metadata": {
        "id": "82XQ8D-8dd36"
      },
      "execution_count": 17,
      "outputs": []
    },
    {
      "cell_type": "code",
      "source": [
        "vocab_file = open('vocabloary.obj' , 'rb')\n",
        "vocabloary = pickle.load(vocab_file)"
      ],
      "metadata": {
        "id": "eshbJqgre-EL"
      },
      "execution_count": null,
      "outputs": []
    },
    {
      "cell_type": "code",
      "source": [
        "encoder = tfds.deprecated.text.TokenTextEncoder(\n",
        "    list(vocabloary) , oov_token=\"<UNK>\" , lowercase = True , tokenizer=tokenizer,\n",
        ")\n",
        "def my_encoder(text_tensor , label):\n",
        "  encoded_text = encoder.encode(text_tensor.numpy())\n",
        "  return encoded_text , label"
      ],
      "metadata": {
        "id": "61ZEFihUfO3g"
      },
      "execution_count": 19,
      "outputs": []
    },
    {
      "cell_type": "code",
      "source": [
        "def encode_map_fn(line):\n",
        "  split_line = tf.strings.split(line , ',' , maxsplit=4)\n",
        "  label_str = split_line[2]\n",
        "  review = \"sostoken\" + split_line[4] + \"eostoken\"\n",
        "  label = 1 if label_str == \"pos\" else 0\n",
        "  (encoded_text , label) = tf.py_function(\n",
        "      my_encoder, inp=[review , label] , Tout =(tf.int64 ,tf.int32)\n",
        "  )\n",
        "  encoded_text.set_shape([None])\n",
        "  label.set_shape([])\n",
        "  return encoded_text ,label"
      ],
      "metadata": {
        "id": "3r5NPqygie__"
      },
      "execution_count": 22,
      "outputs": []
    },
    {
      "cell_type": "code",
      "source": [
        "AUTOTUNE = tf.data.experimental.AUTOTUNE\n",
        "ds_train = ds_train.map(encode_map_fn, num_parallel_calls=AUTOTUNE).cache()\n",
        "ds_train = ds_train.shuffle(25000)\n",
        "ds_train = ds_train.padded_batch(32, padded_shapes=([None], ()))\n",
        "\n",
        "ds_test = ds_test.map(encode_map_fn)\n",
        "ds_test = ds_test.padded_batch(32, padded_shapes=([None], ()))"
      ],
      "metadata": {
        "id": "YOGpAomnj3YV"
      },
      "execution_count": 23,
      "outputs": []
    },
    {
      "cell_type": "code",
      "source": [
        "model = keras.Sequential(\n",
        "    [\n",
        "        layers.Masking(mask_value=0),\n",
        "        layers.Embedding(input_dim=len(vocabloary) + 2, output_dim=32,),\n",
        "        layers.GlobalAveragePooling1D(),\n",
        "        layers.Dense(64, activation=\"relu\"),\n",
        "        layers.Dense(1),\n",
        "    ]\n",
        ")"
      ],
      "metadata": {
        "id": "SwaRsKqikOIW"
      },
      "execution_count": 25,
      "outputs": []
    },
    {
      "cell_type": "code",
      "source": [
        "model.compile(\n",
        "    loss=keras.losses.BinaryCrossentropy(from_logits=True),\n",
        "    optimizer=keras.optimizers.Adam(3e-4, clipnorm=1),\n",
        "    metrics=[\"accuracy\"],\n",
        ")"
      ],
      "metadata": {
        "id": "_U0dKSfGkQTt"
      },
      "execution_count": 26,
      "outputs": []
    },
    {
      "cell_type": "code",
      "source": [
        "model.fit(ds_train, epochs=15, verbose=2)"
      ],
      "metadata": {
        "colab": {
          "base_uri": "https://localhost:8080/"
        },
        "id": "qtj8dZFnkSPM",
        "outputId": "1279aedc-cde4-4fe3-c25a-2f3a04442b33"
      },
      "execution_count": 27,
      "outputs": [
        {
          "output_type": "stream",
          "name": "stdout",
          "text": [
            "Epoch 1/15\n",
            "782/782 - 47s - loss: 0.6697 - accuracy: 0.5114 - 47s/epoch - 60ms/step\n",
            "Epoch 2/15\n",
            "782/782 - 13s - loss: 0.4822 - accuracy: 0.7364 - 13s/epoch - 16ms/step\n",
            "Epoch 3/15\n",
            "782/782 - 13s - loss: 0.3365 - accuracy: 0.8592 - 13s/epoch - 17ms/step\n",
            "Epoch 4/15\n",
            "782/782 - 13s - loss: 0.2739 - accuracy: 0.8899 - 13s/epoch - 17ms/step\n",
            "Epoch 5/15\n",
            "782/782 - 13s - loss: 0.2389 - accuracy: 0.9073 - 13s/epoch - 17ms/step\n",
            "Epoch 6/15\n",
            "782/782 - 13s - loss: 0.2116 - accuracy: 0.9198 - 13s/epoch - 17ms/step\n",
            "Epoch 7/15\n",
            "782/782 - 14s - loss: 0.1890 - accuracy: 0.9295 - 14s/epoch - 17ms/step\n",
            "Epoch 8/15\n",
            "782/782 - 14s - loss: 0.1709 - accuracy: 0.9374 - 14s/epoch - 18ms/step\n",
            "Epoch 9/15\n",
            "782/782 - 14s - loss: 0.1533 - accuracy: 0.9452 - 14s/epoch - 18ms/step\n",
            "Epoch 10/15\n",
            "782/782 - 14s - loss: 0.1407 - accuracy: 0.9510 - 14s/epoch - 18ms/step\n",
            "Epoch 11/15\n",
            "782/782 - 14s - loss: 0.1272 - accuracy: 0.9563 - 14s/epoch - 18ms/step\n",
            "Epoch 12/15\n",
            "782/782 - 14s - loss: 0.1169 - accuracy: 0.9606 - 14s/epoch - 18ms/step\n",
            "Epoch 13/15\n",
            "782/782 - 14s - loss: 0.1055 - accuracy: 0.9652 - 14s/epoch - 18ms/step\n",
            "Epoch 14/15\n",
            "782/782 - 14s - loss: 0.0946 - accuracy: 0.9692 - 14s/epoch - 17ms/step\n",
            "Epoch 15/15\n",
            "782/782 - 14s - loss: 0.0868 - accuracy: 0.9722 - 14s/epoch - 17ms/step\n"
          ]
        },
        {
          "output_type": "execute_result",
          "data": {
            "text/plain": [
              "<keras.callbacks.History at 0x7f516aa62ca0>"
            ]
          },
          "metadata": {},
          "execution_count": 27
        }
      ]
    },
    {
      "cell_type": "code",
      "source": [
        "model.evaluate(ds_test)"
      ],
      "metadata": {
        "colab": {
          "base_uri": "https://localhost:8080/"
        },
        "id": "DsoDoB3mkVTY",
        "outputId": "438b9079-c8cd-41ea-b54a-1ff8db8f823f"
      },
      "execution_count": 28,
      "outputs": [
        {
          "output_type": "stream",
          "name": "stdout",
          "text": [
            "782/782 [==============================] - 44s 56ms/step - loss: 0.3401 - accuracy: 0.8829\n"
          ]
        },
        {
          "output_type": "execute_result",
          "data": {
            "text/plain": [
              "[0.3401123583316803, 0.8829200267791748]"
            ]
          },
          "metadata": {},
          "execution_count": 28
        }
      ]
    }
  ]
}